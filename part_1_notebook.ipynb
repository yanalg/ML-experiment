{
  "cells": [
    {
      "cell_type": "markdown",
      "metadata": {
        "id": "keTS37LVHtIe"
      },
      "source": [
        "# <img src=\"https://img.icons8.com/dusk/64/000000/mind-map.png\" style=\"height:50px;display:inline\"> EE 044165/6 - Technion - Intro to Machine Learning Lab\n",
        "\n",
        "## Part 1 - Loading the Data, Pre-Processing and Naive Bayes\n",
        "\n",
        "### <img src=\"https://img.icons8.com/bubbles/50/000000/checklist.png\" style=\"height:50px;display:inline\"> Agenda\n",
        "\n",
        "* Loading the Data\n",
        "* Data Representation\n",
        "* Train-Test Separation\n",
        "* Naive Bayes\n",
        "\n",
        "#### Notes\n",
        "* To run a code block, select it (with mouse) and press Ctrl + Enter to run it or Shift + Enter to run it and move on to the next block.\n",
        "* To get description of functions and classes, run `help(name_of_function)`.\n",
        "* To display lines in the code block, select the block, press ESC and then 'L'."
      ]
    },
    {
      "cell_type": "code",
      "execution_count": 1,
      "metadata": {
        "id": "6zv7OZDsHtIh"
      },
      "outputs": [],
      "source": [
        "# enable auto-reload modules\n",
        "%reload_ext autoreload\n",
        "%autoreload 2\n",
        "\n",
        "# imports for the lab\n",
        "import os, functools\n",
        "from concurrent.futures import ProcessPoolExecutor\n",
        "import numpy as np\n",
        "import pandas as pd\n",
        "import matplotlib.pyplot as plt\n",
        "from helper_functions import email_pipeline, execute_repeats, get_chunks\n",
        "\n",
        "\n",
        "# auxiliary function for multiprocessing\n",
        "def run_parallel(func, param, n_repeats):\n",
        "    chunks = get_chunks(n_repeats)\n",
        "    if __name__ == '__main__':  # needed to work with jupyter + windows\n",
        "        with ProcessPoolExecutor(max_workers=len(chunks)) as executor:\n",
        "            outs = executor.map(functools.partial(execute_repeats, func=func, param=param), chunks)\n",
        "    return sum(outs, [])"
      ]
    },
    {
      "cell_type": "markdown",
      "metadata": {
        "id": "dhJVIYlVHtIm"
      },
      "source": [
        "### <img src=\"https://img.icons8.com/dusk/64/000000/handshake.png\" style=\"height:50px;display:inline\"> Get to Know the Data\n",
        "The data consists of 3,500 real e-mails from Spam Assassing. We will use `pandas` to load and read the data. Then, we will take a look at a sample of the data."
      ]
    },
    {
      "cell_type": "code",
      "execution_count": 2,
      "metadata": {
        "colab": {
          "base_uri": "https://localhost:8080/",
          "height": 1000
        },
        "id": "PjXYCshRHtIn",
        "outputId": "724843ea-4100-48e2-f9c7-8614c9520b60"
      },
      "outputs": [
        {
          "output_type": "stream",
          "name": "stdout",
          "text": [
            "number of samples:  3052\n",
            "number of spam emails:  501\n",
            "number of ham emails:  2551\n"
          ]
        },
        {
          "output_type": "execute_result",
          "data": {
            "text/plain": [
              "                                                     To  \\\n",
              "2865                               81016h@geocities.com   \n",
              "464                                    fork@example.com   \n",
              "1076                             exmh-users@example.com   \n",
              "1272                          rpm-zzzlist@freshrpms.net   \n",
              "2449                                   yyyy@example.com   \n",
              "1595  'Stephane Lentz' <Stephane.Lentz@ansf.alcatel....   \n",
              "2454                                   yyyy@example.com   \n",
              "605                                    fork@example.com   \n",
              "961                                 johnhall@evergo.net   \n",
              "978                                    fork@example.com   \n",
              "288                   \"'ilug@linux.ie'\" <ilug@linux.ie>   \n",
              "14           spamassassin-devel@example.sourceforge.net   \n",
              "2932                                   zzzz@example.com   \n",
              "1966                                   yyyy@example.com   \n",
              "2904                                      ilug@linux.ie   \n",
              "\n",
              "                                                   From  \\\n",
              "2865                    Marv Sean <78l95@geocities.com>   \n",
              "464                           Dave Long <dl@silcom.com>   \n",
              "1076   \"David B. Thompson\" <thompson@shelob.ce.ttu.edu>   \n",
              "1272       Ricardo Mota <ricardo@mdbcomunicacao.com.br>   \n",
              "2449                    guardian <rssfeeds@example.com>   \n",
              "1595  Jason Qualkenbush <Jason.Qualkenbush@watchguar...   \n",
              "2454                     aaronsw <rssfeeds@example.com>   \n",
              "605                        Gordon Mohr <gojomo@usa.net>   \n",
              "961                    Owen Byrne <owen@permafrost.net>   \n",
              "978                           Dave Long <dl@silcom.com>   \n",
              "288   \"HAMILTON,DAVID (HP-Ireland,ex2)\" <david_hamil...   \n",
              "14                        Marc Perkel <marc@perkel.com>   \n",
              "2932                       greatdaneman34@angelfire.com   \n",
              "1966                diveintomark <rssfeeds@example.com>   \n",
              "2904                        keegancorless@earthlink.net   \n",
              "\n",
              "                                                Subject  \\\n",
              "2865                                       Pics for you   \n",
              "464                          Re: no matter where you go   \n",
              "1076                                        Re: Sorting   \n",
              "1272     Re: Should mplayer be build with Win32 codecs?   \n",
              "2449                        Born to be wild - then shot   \n",
              "1595         RE: [SAtalk] separate inbound and outbound   \n",
              "2454                         Apple: Heinous DVD Pirates   \n",
              "605   More on promiscuity and word choice Re: Sellin...   \n",
              "961   Re: Our friends the Palestinians, Our servants...   \n",
              "978                  RE: The Curse of India's Socialism   \n",
              "288                        [ILUG] Hayes Accura ISDN PCI   \n",
              "14               [SAdev] Party in San Francisco tonight   \n",
              "2932               Expand Your business with our Money!   \n",
              "1966                                         RSS revolt   \n",
              "2904       [ILUG] Here is the information you requested   \n",
              "\n",
              "                                                Content Label  \n",
              "2865  \\nGET FREE ACCESS TO XXX PORN!INSTANT ACCESS.....     S  \n",
              "464   \\n\\n> Another thing to note about Australia is...     H  \n",
              "1076  > > You're probably running exmh on a local ma...     H  \n",
              "1272  \\n\\nHi,\\n\\nFirst you have to get the win32 fil...     H  \n",
              "2449  URL: http://www.newsisfree.com/click/-1,862211...     H  \n",
              "1595  \\nNo I was just a little confused because I'm ...     H  \n",
              "2454  URL: http://www.aaronsw.com/weblog/000644\\nDat...     H  \n",
              "605   Robert Harley writes:\\n> >OK, then. Consider a...     H  \n",
              "961   John Hall wrote:\\n\\n>It wasn't gloating, it wa...     H  \n",
              "978   \\n\\n>                                 You have...     H  \n",
              "288   Does anyone know if this is supported under 2....     H  \n",
              "14    I don't know how make of you are in the Bay Ar...     H  \n",
              "2932  love\\r\\nWorld Capital Group is a group of Fund...     S  \n",
              "1966  URL: http://diveintomark.org/archives/2002/09/...     H  \n",
              "2904  Are you interested in making some extra money ...     S  "
            ],
            "text/html": [
              "\n",
              "\n",
              "  <div id=\"df-b20e3af9-839a-4f6f-84c5-d7c6e47301d3\">\n",
              "    <div class=\"colab-df-container\">\n",
              "      <div>\n",
              "<style scoped>\n",
              "    .dataframe tbody tr th:only-of-type {\n",
              "        vertical-align: middle;\n",
              "    }\n",
              "\n",
              "    .dataframe tbody tr th {\n",
              "        vertical-align: top;\n",
              "    }\n",
              "\n",
              "    .dataframe thead th {\n",
              "        text-align: right;\n",
              "    }\n",
              "</style>\n",
              "<table border=\"1\" class=\"dataframe\">\n",
              "  <thead>\n",
              "    <tr style=\"text-align: right;\">\n",
              "      <th></th>\n",
              "      <th>To</th>\n",
              "      <th>From</th>\n",
              "      <th>Subject</th>\n",
              "      <th>Content</th>\n",
              "      <th>Label</th>\n",
              "    </tr>\n",
              "  </thead>\n",
              "  <tbody>\n",
              "    <tr>\n",
              "      <th>2865</th>\n",
              "      <td>81016h@geocities.com</td>\n",
              "      <td>Marv Sean &lt;78l95@geocities.com&gt;</td>\n",
              "      <td>Pics for you</td>\n",
              "      <td>\\nGET FREE ACCESS TO XXX PORN!INSTANT ACCESS.....</td>\n",
              "      <td>S</td>\n",
              "    </tr>\n",
              "    <tr>\n",
              "      <th>464</th>\n",
              "      <td>fork@example.com</td>\n",
              "      <td>Dave Long &lt;dl@silcom.com&gt;</td>\n",
              "      <td>Re: no matter where you go</td>\n",
              "      <td>\\n\\n&gt; Another thing to note about Australia is...</td>\n",
              "      <td>H</td>\n",
              "    </tr>\n",
              "    <tr>\n",
              "      <th>1076</th>\n",
              "      <td>exmh-users@example.com</td>\n",
              "      <td>\"David B. Thompson\" &lt;thompson@shelob.ce.ttu.edu&gt;</td>\n",
              "      <td>Re: Sorting</td>\n",
              "      <td>&gt; &gt; You're probably running exmh on a local ma...</td>\n",
              "      <td>H</td>\n",
              "    </tr>\n",
              "    <tr>\n",
              "      <th>1272</th>\n",
              "      <td>rpm-zzzlist@freshrpms.net</td>\n",
              "      <td>Ricardo Mota &lt;ricardo@mdbcomunicacao.com.br&gt;</td>\n",
              "      <td>Re: Should mplayer be build with Win32 codecs?</td>\n",
              "      <td>\\n\\nHi,\\n\\nFirst you have to get the win32 fil...</td>\n",
              "      <td>H</td>\n",
              "    </tr>\n",
              "    <tr>\n",
              "      <th>2449</th>\n",
              "      <td>yyyy@example.com</td>\n",
              "      <td>guardian &lt;rssfeeds@example.com&gt;</td>\n",
              "      <td>Born to be wild - then shot</td>\n",
              "      <td>URL: http://www.newsisfree.com/click/-1,862211...</td>\n",
              "      <td>H</td>\n",
              "    </tr>\n",
              "    <tr>\n",
              "      <th>1595</th>\n",
              "      <td>'Stephane Lentz' &lt;Stephane.Lentz@ansf.alcatel....</td>\n",
              "      <td>Jason Qualkenbush &lt;Jason.Qualkenbush@watchguar...</td>\n",
              "      <td>RE: [SAtalk] separate inbound and outbound</td>\n",
              "      <td>\\nNo I was just a little confused because I'm ...</td>\n",
              "      <td>H</td>\n",
              "    </tr>\n",
              "    <tr>\n",
              "      <th>2454</th>\n",
              "      <td>yyyy@example.com</td>\n",
              "      <td>aaronsw &lt;rssfeeds@example.com&gt;</td>\n",
              "      <td>Apple: Heinous DVD Pirates</td>\n",
              "      <td>URL: http://www.aaronsw.com/weblog/000644\\nDat...</td>\n",
              "      <td>H</td>\n",
              "    </tr>\n",
              "    <tr>\n",
              "      <th>605</th>\n",
              "      <td>fork@example.com</td>\n",
              "      <td>Gordon Mohr &lt;gojomo@usa.net&gt;</td>\n",
              "      <td>More on promiscuity and word choice Re: Sellin...</td>\n",
              "      <td>Robert Harley writes:\\n&gt; &gt;OK, then. Consider a...</td>\n",
              "      <td>H</td>\n",
              "    </tr>\n",
              "    <tr>\n",
              "      <th>961</th>\n",
              "      <td>johnhall@evergo.net</td>\n",
              "      <td>Owen Byrne &lt;owen@permafrost.net&gt;</td>\n",
              "      <td>Re: Our friends the Palestinians, Our servants...</td>\n",
              "      <td>John Hall wrote:\\n\\n&gt;It wasn't gloating, it wa...</td>\n",
              "      <td>H</td>\n",
              "    </tr>\n",
              "    <tr>\n",
              "      <th>978</th>\n",
              "      <td>fork@example.com</td>\n",
              "      <td>Dave Long &lt;dl@silcom.com&gt;</td>\n",
              "      <td>RE: The Curse of India's Socialism</td>\n",
              "      <td>\\n\\n&gt;                                 You have...</td>\n",
              "      <td>H</td>\n",
              "    </tr>\n",
              "    <tr>\n",
              "      <th>288</th>\n",
              "      <td>\"'ilug@linux.ie'\" &lt;ilug@linux.ie&gt;</td>\n",
              "      <td>\"HAMILTON,DAVID (HP-Ireland,ex2)\" &lt;david_hamil...</td>\n",
              "      <td>[ILUG] Hayes Accura ISDN PCI</td>\n",
              "      <td>Does anyone know if this is supported under 2....</td>\n",
              "      <td>H</td>\n",
              "    </tr>\n",
              "    <tr>\n",
              "      <th>14</th>\n",
              "      <td>spamassassin-devel@example.sourceforge.net</td>\n",
              "      <td>Marc Perkel &lt;marc@perkel.com&gt;</td>\n",
              "      <td>[SAdev] Party in San Francisco tonight</td>\n",
              "      <td>I don't know how make of you are in the Bay Ar...</td>\n",
              "      <td>H</td>\n",
              "    </tr>\n",
              "    <tr>\n",
              "      <th>2932</th>\n",
              "      <td>zzzz@example.com</td>\n",
              "      <td>greatdaneman34@angelfire.com</td>\n",
              "      <td>Expand Your business with our Money!</td>\n",
              "      <td>love\\r\\nWorld Capital Group is a group of Fund...</td>\n",
              "      <td>S</td>\n",
              "    </tr>\n",
              "    <tr>\n",
              "      <th>1966</th>\n",
              "      <td>yyyy@example.com</td>\n",
              "      <td>diveintomark &lt;rssfeeds@example.com&gt;</td>\n",
              "      <td>RSS revolt</td>\n",
              "      <td>URL: http://diveintomark.org/archives/2002/09/...</td>\n",
              "      <td>H</td>\n",
              "    </tr>\n",
              "    <tr>\n",
              "      <th>2904</th>\n",
              "      <td>ilug@linux.ie</td>\n",
              "      <td>keegancorless@earthlink.net</td>\n",
              "      <td>[ILUG] Here is the information you requested</td>\n",
              "      <td>Are you interested in making some extra money ...</td>\n",
              "      <td>S</td>\n",
              "    </tr>\n",
              "  </tbody>\n",
              "</table>\n",
              "</div>\n",
              "      <button class=\"colab-df-convert\" onclick=\"convertToInteractive('df-b20e3af9-839a-4f6f-84c5-d7c6e47301d3')\"\n",
              "              title=\"Convert this dataframe to an interactive table.\"\n",
              "              style=\"display:none;\">\n",
              "\n",
              "  <svg xmlns=\"http://www.w3.org/2000/svg\" height=\"24px\"viewBox=\"0 0 24 24\"\n",
              "       width=\"24px\">\n",
              "    <path d=\"M0 0h24v24H0V0z\" fill=\"none\"/>\n",
              "    <path d=\"M18.56 5.44l.94 2.06.94-2.06 2.06-.94-2.06-.94-.94-2.06-.94 2.06-2.06.94zm-11 1L8.5 8.5l.94-2.06 2.06-.94-2.06-.94L8.5 2.5l-.94 2.06-2.06.94zm10 10l.94 2.06.94-2.06 2.06-.94-2.06-.94-.94-2.06-.94 2.06-2.06.94z\"/><path d=\"M17.41 7.96l-1.37-1.37c-.4-.4-.92-.59-1.43-.59-.52 0-1.04.2-1.43.59L10.3 9.45l-7.72 7.72c-.78.78-.78 2.05 0 2.83L4 21.41c.39.39.9.59 1.41.59.51 0 1.02-.2 1.41-.59l7.78-7.78 2.81-2.81c.8-.78.8-2.07 0-2.86zM5.41 20L4 18.59l7.72-7.72 1.47 1.35L5.41 20z\"/>\n",
              "  </svg>\n",
              "      </button>\n",
              "\n",
              "\n",
              "\n",
              "    <div id=\"df-5bfb7141-abbd-43a7-abb7-e4e92cf8d5ef\">\n",
              "      <button class=\"colab-df-quickchart\" onclick=\"quickchart('df-5bfb7141-abbd-43a7-abb7-e4e92cf8d5ef')\"\n",
              "              title=\"Suggest charts.\"\n",
              "              style=\"display:none;\">\n",
              "\n",
              "<svg xmlns=\"http://www.w3.org/2000/svg\" height=\"24px\"viewBox=\"0 0 24 24\"\n",
              "     width=\"24px\">\n",
              "    <g>\n",
              "        <path d=\"M19 3H5c-1.1 0-2 .9-2 2v14c0 1.1.9 2 2 2h14c1.1 0 2-.9 2-2V5c0-1.1-.9-2-2-2zM9 17H7v-7h2v7zm4 0h-2V7h2v10zm4 0h-2v-4h2v4z\"/>\n",
              "    </g>\n",
              "</svg>\n",
              "      </button>\n",
              "    </div>\n",
              "\n",
              "<style>\n",
              "  .colab-df-quickchart {\n",
              "    background-color: #E8F0FE;\n",
              "    border: none;\n",
              "    border-radius: 50%;\n",
              "    cursor: pointer;\n",
              "    display: none;\n",
              "    fill: #1967D2;\n",
              "    height: 32px;\n",
              "    padding: 0 0 0 0;\n",
              "    width: 32px;\n",
              "  }\n",
              "\n",
              "  .colab-df-quickchart:hover {\n",
              "    background-color: #E2EBFA;\n",
              "    box-shadow: 0px 1px 2px rgba(60, 64, 67, 0.3), 0px 1px 3px 1px rgba(60, 64, 67, 0.15);\n",
              "    fill: #174EA6;\n",
              "  }\n",
              "\n",
              "  [theme=dark] .colab-df-quickchart {\n",
              "    background-color: #3B4455;\n",
              "    fill: #D2E3FC;\n",
              "  }\n",
              "\n",
              "  [theme=dark] .colab-df-quickchart:hover {\n",
              "    background-color: #434B5C;\n",
              "    box-shadow: 0px 1px 3px 1px rgba(0, 0, 0, 0.15);\n",
              "    filter: drop-shadow(0px 1px 2px rgba(0, 0, 0, 0.3));\n",
              "    fill: #FFFFFF;\n",
              "  }\n",
              "</style>\n",
              "\n",
              "    <script>\n",
              "      async function quickchart(key) {\n",
              "        const containerElement = document.querySelector('#' + key);\n",
              "        const charts = await google.colab.kernel.invokeFunction(\n",
              "            'suggestCharts', [key], {});\n",
              "      }\n",
              "    </script>\n",
              "\n",
              "      <script>\n",
              "\n",
              "function displayQuickchartButton(domScope) {\n",
              "  let quickchartButtonEl =\n",
              "    domScope.querySelector('#df-5bfb7141-abbd-43a7-abb7-e4e92cf8d5ef button.colab-df-quickchart');\n",
              "  quickchartButtonEl.style.display =\n",
              "    google.colab.kernel.accessAllowed ? 'block' : 'none';\n",
              "}\n",
              "\n",
              "        displayQuickchartButton(document);\n",
              "      </script>\n",
              "      <style>\n",
              "    .colab-df-container {\n",
              "      display:flex;\n",
              "      flex-wrap:wrap;\n",
              "      gap: 12px;\n",
              "    }\n",
              "\n",
              "    .colab-df-convert {\n",
              "      background-color: #E8F0FE;\n",
              "      border: none;\n",
              "      border-radius: 50%;\n",
              "      cursor: pointer;\n",
              "      display: none;\n",
              "      fill: #1967D2;\n",
              "      height: 32px;\n",
              "      padding: 0 0 0 0;\n",
              "      width: 32px;\n",
              "    }\n",
              "\n",
              "    .colab-df-convert:hover {\n",
              "      background-color: #E2EBFA;\n",
              "      box-shadow: 0px 1px 2px rgba(60, 64, 67, 0.3), 0px 1px 3px 1px rgba(60, 64, 67, 0.15);\n",
              "      fill: #174EA6;\n",
              "    }\n",
              "\n",
              "    [theme=dark] .colab-df-convert {\n",
              "      background-color: #3B4455;\n",
              "      fill: #D2E3FC;\n",
              "    }\n",
              "\n",
              "    [theme=dark] .colab-df-convert:hover {\n",
              "      background-color: #434B5C;\n",
              "      box-shadow: 0px 1px 3px 1px rgba(0, 0, 0, 0.15);\n",
              "      filter: drop-shadow(0px 1px 2px rgba(0, 0, 0, 0.3));\n",
              "      fill: #FFFFFF;\n",
              "    }\n",
              "  </style>\n",
              "\n",
              "      <script>\n",
              "        const buttonEl =\n",
              "          document.querySelector('#df-b20e3af9-839a-4f6f-84c5-d7c6e47301d3 button.colab-df-convert');\n",
              "        buttonEl.style.display =\n",
              "          google.colab.kernel.accessAllowed ? 'block' : 'none';\n",
              "\n",
              "        async function convertToInteractive(key) {\n",
              "          const element = document.querySelector('#df-b20e3af9-839a-4f6f-84c5-d7c6e47301d3');\n",
              "          const dataTable =\n",
              "            await google.colab.kernel.invokeFunction('convertToInteractive',\n",
              "                                                     [key], {});\n",
              "          if (!dataTable) return;\n",
              "\n",
              "          const docLinkHtml = 'Like what you see? Visit the ' +\n",
              "            '<a target=\"_blank\" href=https://colab.research.google.com/notebooks/data_table.ipynb>data table notebook</a>'\n",
              "            + ' to learn more about interactive tables.';\n",
              "          element.innerHTML = '';\n",
              "          dataTable['output_type'] = 'display_data';\n",
              "          await google.colab.output.renderOutput(dataTable, element);\n",
              "          const docLink = document.createElement('div');\n",
              "          docLink.innerHTML = docLinkHtml;\n",
              "          element.appendChild(docLink);\n",
              "        }\n",
              "      </script>\n",
              "    </div>\n",
              "  </div>\n"
            ]
          },
          "metadata": {},
          "execution_count": 2
        }
      ],
      "source": [
        "# load the data\n",
        "email_data = pd.read_csv('./email_data.csv')\n",
        "print(\"number of samples: \", len(email_data))\n",
        "print(\"number of spam emails: \", np.sum(email_data.Label == 'S'))\n",
        "print(\"number of ham emails: \", np.sum(email_data.Label == 'H'))\n",
        "\n",
        "# let's look at 15 random samples from it.\n",
        "email_data.sample(15)"
      ]
    },
    {
      "cell_type": "markdown",
      "metadata": {
        "id": "iOKkJkrdHtIu"
      },
      "source": [
        "### <img src=\"https://img.icons8.com/color/96/000000/transformer.png\" style=\"height:50px;display:inline\"> Represent the Data\n",
        "We will now transform the data into a form which is applicable for the computer, for the algorithms - numbers."
      ]
    },
    {
      "cell_type": "code",
      "execution_count": 3,
      "metadata": {
        "colab": {
          "base_uri": "https://localhost:8080/"
        },
        "id": "xiRaZ-chHtIw",
        "outputId": "128f4a94-ba23-498e-f818-5c020ad2a638"
      },
      "outputs": [
        {
          "output_type": "stream",
          "name": "stdout",
          "text": [
            "X_sample_augmented type: \n",
            " <class 'scipy.sparse._csr.csr_matrix'>\n",
            "\n",
            " X_sample_augmented: \n",
            "   (0, 0)\t1\n",
            "  (0, 1)\t2\n",
            "  (0, 29)\t1\n",
            "  (0, 56)\t1\n",
            "  (0, 81)\t1\n",
            "  (0, 110)\t1\n",
            "  (0, 176)\t1\n",
            "  (1, 0)\t5\n",
            "  (1, 2)\t1\n",
            "  (1, 5)\t1\n",
            "  (1, 8)\t1\n",
            "  (1, 11)\t1\n",
            "  (1, 16)\t1\n",
            "  (1, 18)\t2\n",
            "  (1, 19)\t1\n",
            "  (1, 26)\t2\n",
            "  (1, 31)\t1\n",
            "  (1, 32)\t2\n",
            "  (1, 33)\t1\n",
            "  (1, 38)\t1\n",
            "  (1, 45)\t1\n",
            "  (1, 46)\t1\n",
            "  (1, 57)\t1\n",
            "  (1, 68)\t1\n",
            "  (1, 69)\t1\n",
            "  :\t:\n",
            "  (13, 192)\t1\n",
            "  (13, 214)\t1\n",
            "  (13, 237)\t1\n",
            "  (13, 249)\t1\n",
            "  (13, 256)\t1\n",
            "  (13, 278)\t1\n",
            "  (14, 0)\t1\n",
            "  (14, 2)\t3\n",
            "  (14, 5)\t3\n",
            "  (14, 8)\t1\n",
            "  (14, 16)\t1\n",
            "  (14, 19)\t1\n",
            "  (14, 31)\t1\n",
            "  (14, 33)\t1\n",
            "  (14, 36)\t1\n",
            "  (14, 38)\t1\n",
            "  (14, 58)\t1\n",
            "  (14, 59)\t1\n",
            "  (14, 75)\t1\n",
            "  (14, 82)\t1\n",
            "  (14, 83)\t1\n",
            "  (14, 88)\t1\n",
            "  (14, 153)\t1\n",
            "  (14, 175)\t3\n",
            "  (14, 229)\t1\n",
            "\n",
            " y_sample: \n",
            " [False False  True False False False False False False False  True  True\n",
            " False False False]\n"
          ]
        }
      ],
      "source": [
        "# let's separate the Content and the Label for a sample of the data\n",
        "data_sample = email_data.sample(15)\n",
        "X_sample = data_sample['Content'].values\n",
        "y_sample = data_sample['Label'].values == 'S'  # 1 Spam, 0 for Ham\n",
        "\n",
        "# transform the data\n",
        "X_sample_augmented = email_pipeline.fit_transform(X_sample)\n",
        "\n",
        "# let's look at what we got\n",
        "print('X_sample_augmented type: \\n',type(X_sample_augmented))\n",
        "print('\\n X_sample_augmented: \\n', X_sample_augmented)\n",
        "\n",
        "print('\\n y_sample: \\n', y_sample)"
      ]
    },
    {
      "cell_type": "code",
      "execution_count": 4,
      "metadata": {
        "colab": {
          "base_uri": "https://localhost:8080/"
        },
        "id": "NvDy3OsWHtI0",
        "outputId": "2b962b8d-7775-4aeb-84c0-d221dea13a40"
      },
      "outputs": [
        {
          "output_type": "stream",
          "name": "stdout",
          "text": [
            "X_sample_augmented type: \n",
            " <class 'numpy.matrix'>\n",
            "\n",
            " X_sample_augmented: \n",
            " [[1 2 0 ... 0 0 0]\n",
            " [5 0 1 ... 0 0 0]\n",
            " [1 1 0 ... 0 0 0]\n",
            " ...\n",
            " [3 1 0 ... 0 0 0]\n",
            " [4 1 1 ... 0 0 0]\n",
            " [1 0 3 ... 0 0 0]]\n"
          ]
        }
      ],
      "source": [
        "# from sparse to dense\n",
        "X_sample_augmented = X_sample_augmented.todense()\n",
        "print('X_sample_augmented type: \\n',type(X_sample_augmented))\n",
        "print('\\n X_sample_augmented: \\n', X_sample_augmented)"
      ]
    },
    {
      "cell_type": "code",
      "execution_count": 5,
      "metadata": {
        "colab": {
          "base_uri": "https://localhost:8080/"
        },
        "id": "W1st58wsHtI3",
        "outputId": "cb5c7b98-f82e-4d11-a936-c5a178d2f891"
      },
      "outputs": [
        {
          "output_type": "stream",
          "name": "stdout",
          "text": [
            "{'the': 0, 'and': 1, 'you': 2, 'for': 3, 'your': 4, 'that': 5, 'business': 6, 'grants': 7, 'this': 8, 'are': 9, 'money': 10, 'free': 11, 'will': 12, 'get': 13, 'government': 14, 'can': 15, 'from': 16, 'with': 17, 'have': 18, 'was': 19, 'programs': 20, 'home': 21, 'not': 22, 'grant': 23, 'step': 24, 'guide': 25, 'all': 26, 'people': 27, 'complete': 28, 'how': 29, 'but': 30, 'its': 31, 'know': 32, 'just': 33, 'what': 34, 'new': 35, 'has': 36, 'much': 37, 'some': 38, 'any': 39, 'more': 40, 'over': 41, 'these': 42, 'only': 43, 'help': 44, 'about': 45, 'dont': 46, 'small': 47, 'here': 48, 'start': 49, 'make': 50, 'based': 51, 'one': 52, 'been': 53, 'dollars': 54, 'purchase': 55, 'date': 56, 'could': 57, 'other': 58, 'may': 59, 'wrote': 60, 'spam': 61, 'idea': 62, 'own': 63, 'need': 64, 'year': 65, 'access': 66, 'secrets': 67, 'which': 68, 'there': 69, 'another': 70, 'easy': 71, 'least': 72, 'results': 73, 'into': 74, 'think': 75, 'valuable': 76, 'each': 77, 'businesses': 78, 'keep': 79, 'apply': 80, 'url': 81, 'original': 82, 'like': 83, 'their': 84, 'phone': 85, 'our': 86, 'time': 87, 'being': 88, 'they': 89, 'good': 90, 'once': 91, 'after': 92, 'why': 93, 'security': 94, 'software': 95, 'personal': 96, 'million': 97, 'find': 98, 'out': 99, 'state': 100, 'car': 101, 'many': 102, 'obtaining': 103, 'order': 104, 'risk': 105, 'guarantee': 106, 'bonus': 107, 'insider': 108, 'plan': 109, 'day': 110, 'simple': 111, 'thats': 112, 'even': 113, 'site': 114, 'man': 115, 'done': 116, 'buy': 117, 'because': 118, 'bad': 119, 'simply': 120, 'seen': 121, 'email': 122, 'address': 123, 'rot': 124, 'should': 125, 'still': 126, 'ever': 127, 'test': 128, 'however': 129, 'now': 130, 'player': 131, 'known': 132, 'break': 133, 'reason': 134, 'css': 135, 'bits': 136, 'attacks': 137, 'them': 138, 'hardware': 139, 'put': 140, 'number': 141, 'very': 142, 'system': 143, 'smartcard': 144, 'back': 145, 'most': 146, 'price': 147, 'use': 148, 'services': 149, 'given': 150, 'want': 151, 'winblows': 152, 'used': 153, 'never': 154, 'too': 155, 'away': 156, 'moment': 157, 'through': 158, 'credit': 159, 'federal': 160, 'every': 161, 'expand': 162, 'give': 163, 'life': 164, 'school': 165, 'assistance': 166, 'available': 167, 'education': 168, 'comes': 169, 'program': 170, 'starting': 171, 'ebook': 172, 'best': 173, 'background': 174, 'shiver': 175, 'states': 176, 'creator': 177, 'didnt': 178, 'say': 179, 'without': 180, 'major': 181, 'holy': 182, 'across': 183, 'meaning': 184, 'claim': 185, 'stealing': 186, 'were': 187, 'way': 188, 'hot': 189, 'read': 190, 'someone': 191, 'had': 192, 'cell': 193, 'booster': 194, 'improve': 195, 'save': 196, 'click': 197, 'seem': 198, 'encrypted': 199, 'see': 200, 'since': 201, 'lot': 202, 'worthwhile': 203, 'name': 204, 'messages': 205, 'trotemail': 206, 'thing': 207, 'hits': 208, 'anyone': 209, 'characters': 210, 'same': 211, 'might': 212, 'found': 213, 'html': 214, 'enough': 215, 'far': 216, 'discussed': 217, 'while': 218, 'then': 219, 'interest': 220, 'machine': 221, 'pretty': 222, 'udhay': 223, 'key': 224, 'broken': 225, 'rest': 226, 'plaintext': 227, 'keys': 228, 'went': 229, 'actual': 230, 'systems': 231, 'algorithm': 232, 'primary': 233, 'search': 234, 'soon': 235, 'serious': 236, 'design': 237, 'strength': 238, 'around': 239, 'further': 240, 'great': 241, 'tue': 242, 'smart': 243, 'amount': 244, 'behind': 245, 'developed': 246, 'techniques': 247, 'unique': 248, 'needs': 249, 'material': 250, 'such': 251, 'easily': 252, 'value': 253, 'trying': 254, 'cost': 255, 'aug': 256, 'old': 257, 'floppy': 258, 'drive': 259, 'stop': 260, 'would': 261, 'connecting': 262, 'pcmcia': 263, 'off': 264, 'youve': 265, 'look': 266, 'cable': 267, 'direct': 268, 'onto': 269, 'also': 270, 'long': 271, 'corpus': 272, 'large': 273, 'doesnt': 274, 'mail': 275, 'natures': 276, 'receiving': 277, 'future': 278, 'qualify': 279, 'freegrants': 280, 'guaranteed': 281, 'tell': 282, 'where': 283, 'thinking': 284, 'fact': 285, 'applyfor': 286, 'years': 287, 'slice': 288, 'american': 289, 'under': 290, 'decide': 291, 'yours': 292, 'tax': 293, 'entitled': 294, 'currently': 295, 'private': 296, 'real': 297, 'estate': 298, 'existing': 299}\n"
          ]
        }
      ],
      "source": [
        "# let's look at the vocabulary\n",
        "dictionary = email_pipeline['Wordcount to Vector'].vocabulary_\n",
        "print(dictionary)"
      ]
    },
    {
      "cell_type": "markdown",
      "metadata": {
        "id": "RASQNaMTHtI8"
      },
      "source": [
        "### <img src=\"https://img.icons8.com/flat_round/64/000000/split.png\" style=\"height:50px;display:inline\"> Split the Data\n",
        "We will now split the data into train and test sets, so we can train and evaluate our algorithms."
      ]
    },
    {
      "cell_type": "code",
      "execution_count": 7,
      "metadata": {
        "colab": {
          "base_uri": "https://localhost:8080/"
        },
        "id": "1XKDj_RkHtJB",
        "outputId": "6437518a-6c5e-484e-8695-60a5708ed592"
      },
      "outputs": [
        {
          "output_type": "stream",
          "name": "stdout",
          "text": [
            "num train samples:  2441\n",
            "num test samples:  611\n",
            "shape after augmentation:  (2441, 300)\n",
            "fraction of spam in the original:  0.16415465268676277\n",
            "fraction of spam in the train set:  0.16222859483818108\n"
          ]
        }
      ],
      "source": [
        "# Complete the code of the function train_test_split in part_1_functions.py\n",
        "from part_1_functions import train_test_split\n",
        "\n",
        "\n",
        "# test your function\n",
        "X = email_data['Content'].values\n",
        "y = email_data['Label'].values == 'S'  # 1 Spam, 0 for Ham\n",
        "# split\n",
        "X_train, X_test, y_train, y_test = train_test_split(X, y, test_size=0.2)\n",
        "# transform\n",
        "X_train_augmented = email_pipeline.fit_transform(X_train)\n",
        "X_test_augmented = email_pipeline.transform(X_test)\n",
        "\n",
        "print(\"num train samples: \", X_train.shape[0])\n",
        "print(\"num test samples: \", X_test.shape[0])\n",
        "print(\"shape after augmentation: \", X_train_augmented.shape)\n",
        "print(\"fraction of spam in the original: \", np.mean(y == 1))\n",
        "print(\"fraction of spam in the train set: \", np.mean(y_train == 1))"
      ]
    },
    {
      "cell_type": "markdown",
      "metadata": {
        "id": "fm0Fk7fJHtJJ"
      },
      "source": [
        "### <img src=\"https://img.icons8.com/color/96/000000/rubiks-cube.png\" style=\"height:50px;display:inline\"> Naive Bayes\n",
        "We will now implement the Naive Bayes algorithm, using the Scikit-Learn formulation.\n",
        "Each ML algorithm has 2 methods:\n",
        "1. `fit` - Training stage. the algorithm receives $X_{train}$, $y_{train}$, and learns the parameters to perform classification.\n",
        "2. `predict` - The algorithm uses the learned parameters to perform prediction on $X_{test}$.\n",
        "\n",
        "\n",
        "* For the likelihood parameters calculation, you can use the pre-made function `estimate_likelihood_params`. Read its description and how to use it."
      ]
    },
    {
      "cell_type": "code",
      "execution_count": 8,
      "metadata": {
        "pycharm": {
          "name": "#%% m\n"
        },
        "id": "9T6I8WUE10nM"
      },
      "outputs": [],
      "source": [
        "# Complete the code of the function calc_err in part_1_functions.py\n",
        "from part_1_functions import calc_err"
      ]
    },
    {
      "cell_type": "code",
      "execution_count": 9,
      "metadata": {
        "colab": {
          "base_uri": "https://localhost:8080/",
          "height": 269
        },
        "id": "9nQ_d8UbHtJS",
        "outputId": "e2b310d3-7720-4179-e986-f50a8a8ebbff"
      },
      "outputs": [
        {
          "output_type": "error",
          "ename": "ValueError",
          "evalue": "ignored",
          "traceback": [
            "\u001b[0;31m---------------------------------------------------------------------------\u001b[0m",
            "\u001b[0;31mValueError\u001b[0m                                Traceback (most recent call last)",
            "\u001b[0;32m<ipython-input-9-2013c4677807>\u001b[0m in \u001b[0;36m<cell line: 10>\u001b[0;34m()\u001b[0m\n\u001b[1;32m      8\u001b[0m \u001b[0mclf\u001b[0m\u001b[0;34m.\u001b[0m\u001b[0mfit\u001b[0m\u001b[0;34m(\u001b[0m\u001b[0mX_train_augmented\u001b[0m\u001b[0;34m,\u001b[0m \u001b[0my_train\u001b[0m\u001b[0;34m)\u001b[0m\u001b[0;34m\u001b[0m\u001b[0;34m\u001b[0m\u001b[0m\n\u001b[1;32m      9\u001b[0m \u001b[0;31m# predict on test set\u001b[0m\u001b[0;34m\u001b[0m\u001b[0;34m\u001b[0m\u001b[0m\n\u001b[0;32m---> 10\u001b[0;31m \u001b[0my_pred\u001b[0m \u001b[0;34m=\u001b[0m \u001b[0mclf\u001b[0m\u001b[0;34m.\u001b[0m\u001b[0mpredict\u001b[0m\u001b[0;34m(\u001b[0m\u001b[0mX_test_augmented\u001b[0m\u001b[0;34m)\u001b[0m\u001b[0;34m\u001b[0m\u001b[0;34m\u001b[0m\u001b[0m\n\u001b[0m",
            "\u001b[0;32m/content/part_1_functions.py\u001b[0m in \u001b[0;36mpredict\u001b[0;34m(self, X)\u001b[0m\n\u001b[1;32m    151\u001b[0m             \u001b[0;32mif\u001b[0m \u001b[0;32mnot\u001b[0m \u001b[0mself\u001b[0m\u001b[0;34m.\u001b[0m\u001b[0muse_log_prob\u001b[0m\u001b[0;34m:\u001b[0m\u001b[0;34m\u001b[0m\u001b[0;34m\u001b[0m\u001b[0m\n\u001b[1;32m    152\u001b[0m                 \u001b[0;31m# in case use_log_prob == False\u001b[0m\u001b[0;34m\u001b[0m\u001b[0;34m\u001b[0m\u001b[0m\n\u001b[0;32m--> 153\u001b[0;31m                 \u001b[0mlikelihood\u001b[0m \u001b[0;34m=\u001b[0m \u001b[0mself\u001b[0m\u001b[0;34m.\u001b[0m\u001b[0meval_sample_likelihood\u001b[0m\u001b[0;34m(\u001b[0m\u001b[0msample\u001b[0m\u001b[0;34m)\u001b[0m\u001b[0;34m\u001b[0m\u001b[0;34m\u001b[0m\u001b[0m\n\u001b[0m\u001b[1;32m    154\u001b[0m                 \u001b[0;32mif\u001b[0m \u001b[0mlikelihood\u001b[0m \u001b[0;32mis\u001b[0m \u001b[0;32mNone\u001b[0m\u001b[0;34m:\u001b[0m\u001b[0;34m\u001b[0m\u001b[0;34m\u001b[0m\u001b[0m\n\u001b[1;32m    155\u001b[0m                     \u001b[0mprint\u001b[0m\u001b[0;34m(\u001b[0m\u001b[0;34m\"Error: eval_sample_likelihood failed!!!\"\u001b[0m\u001b[0;34m)\u001b[0m\u001b[0;34m\u001b[0m\u001b[0;34m\u001b[0m\u001b[0m\n",
            "\u001b[0;32m/content/part_1_functions.py\u001b[0m in \u001b[0;36meval_sample_likelihood\u001b[0;34m(self, sample)\u001b[0m\n\u001b[1;32m    189\u001b[0m                 \u001b[0mnorm_factor\u001b[0m \u001b[0;34m=\u001b[0m \u001b[0;36m1\u001b[0m\u001b[0;34m/\u001b[0m\u001b[0;34m(\u001b[0m\u001b[0mnp\u001b[0m\u001b[0;34m.\u001b[0m\u001b[0msqrt\u001b[0m\u001b[0;34m(\u001b[0m\u001b[0;36m2\u001b[0m\u001b[0;34m*\u001b[0m\u001b[0mnp\u001b[0m\u001b[0;34m.\u001b[0m\u001b[0mpi\u001b[0m\u001b[0;34m)\u001b[0m\u001b[0;34m*\u001b[0m\u001b[0msigmaSqr\u001b[0m\u001b[0;34m)\u001b[0m\u001b[0;34m\u001b[0m\u001b[0;34m\u001b[0m\u001b[0m\n\u001b[1;32m    190\u001b[0m                 \u001b[0mexp_argument\u001b[0m \u001b[0;34m=\u001b[0m \u001b[0;34m-\u001b[0m\u001b[0;36m0.5\u001b[0m\u001b[0;34m*\u001b[0m\u001b[0;34m(\u001b[0m\u001b[0;34m(\u001b[0m\u001b[0mnp\u001b[0m\u001b[0;34m.\u001b[0m\u001b[0msquare\u001b[0m\u001b[0;34m(\u001b[0m\u001b[0msample\u001b[0m\u001b[0;34m-\u001b[0m\u001b[0mmu\u001b[0m\u001b[0;34m)\u001b[0m\u001b[0;34m)\u001b[0m\u001b[0;34m/\u001b[0m\u001b[0msigmaSqr\u001b[0m\u001b[0;34m)\u001b[0m\u001b[0;34m\u001b[0m\u001b[0;34m\u001b[0m\u001b[0m\n\u001b[0;32m--> 191\u001b[0;31m                 \u001b[0mnorm_pdf\u001b[0m \u001b[0;34m=\u001b[0m \u001b[0mnorm_factor\u001b[0m \u001b[0;34m*\u001b[0m \u001b[0mnp\u001b[0m\u001b[0;34m.\u001b[0m\u001b[0mexp\u001b[0m\u001b[0;34m(\u001b[0m\u001b[0mexp_argument\u001b[0m\u001b[0;34m)\u001b[0m\u001b[0;34m\u001b[0m\u001b[0;34m\u001b[0m\u001b[0m\n\u001b[0m\u001b[1;32m    192\u001b[0m                 \u001b[0mlikelihood\u001b[0m\u001b[0;34m[\u001b[0m\u001b[0mi_class\u001b[0m\u001b[0;34m]\u001b[0m \u001b[0;34m=\u001b[0m \u001b[0mnp\u001b[0m\u001b[0;34m.\u001b[0m\u001b[0mprod\u001b[0m\u001b[0;34m(\u001b[0m\u001b[0mnorm_pdf\u001b[0m\u001b[0;34m)\u001b[0m\u001b[0;34m\u001b[0m\u001b[0;34m\u001b[0m\u001b[0m\n\u001b[1;32m    193\u001b[0m                 \"\"\"\n",
            "\u001b[0;32m/usr/local/lib/python3.10/dist-packages/numpy/matrixlib/defmatrix.py\u001b[0m in \u001b[0;36m__rmul__\u001b[0;34m(self, other)\u001b[0m\n\u001b[1;32m    222\u001b[0m \u001b[0;34m\u001b[0m\u001b[0m\n\u001b[1;32m    223\u001b[0m     \u001b[0;32mdef\u001b[0m \u001b[0m__rmul__\u001b[0m\u001b[0;34m(\u001b[0m\u001b[0mself\u001b[0m\u001b[0;34m,\u001b[0m \u001b[0mother\u001b[0m\u001b[0;34m)\u001b[0m\u001b[0;34m:\u001b[0m\u001b[0;34m\u001b[0m\u001b[0;34m\u001b[0m\u001b[0m\n\u001b[0;32m--> 224\u001b[0;31m         \u001b[0;32mreturn\u001b[0m \u001b[0mN\u001b[0m\u001b[0;34m.\u001b[0m\u001b[0mdot\u001b[0m\u001b[0;34m(\u001b[0m\u001b[0mother\u001b[0m\u001b[0;34m,\u001b[0m \u001b[0mself\u001b[0m\u001b[0;34m)\u001b[0m\u001b[0;34m\u001b[0m\u001b[0;34m\u001b[0m\u001b[0m\n\u001b[0m\u001b[1;32m    225\u001b[0m \u001b[0;34m\u001b[0m\u001b[0m\n\u001b[1;32m    226\u001b[0m     \u001b[0;32mdef\u001b[0m \u001b[0m__imul__\u001b[0m\u001b[0;34m(\u001b[0m\u001b[0mself\u001b[0m\u001b[0;34m,\u001b[0m \u001b[0mother\u001b[0m\u001b[0;34m)\u001b[0m\u001b[0;34m:\u001b[0m\u001b[0;34m\u001b[0m\u001b[0;34m\u001b[0m\u001b[0m\n",
            "\u001b[0;32m/usr/local/lib/python3.10/dist-packages/numpy/core/overrides.py\u001b[0m in \u001b[0;36mdot\u001b[0;34m(*args, **kwargs)\u001b[0m\n",
            "\u001b[0;31mValueError\u001b[0m: shapes (300,) and (1,300) not aligned: 300 (dim 0) != 1 (dim 0)"
          ]
        }
      ],
      "source": [
        "# Complete the code of the class MlabNaiveBayes in part_1_functions.py\n",
        "from part_1_functions import MlabNaiveBayes\n",
        "\n",
        "# let's see it in action for the gaussian case\n",
        "# create classifier\n",
        "clf = MlabNaiveBayes(dist_type=\"gaussian\", n_classes=2)\n",
        "# train on train set\n",
        "clf.fit(X_train_augmented, y_train)\n",
        "# predict on test set\n",
        "y_pred = clf.predict(X_test_augmented)"
      ]
    },
    {
      "cell_type": "code",
      "metadata": {
        "colab": {
          "base_uri": "https://localhost:8080/"
        },
        "id": "LHBmXW-5HtJV",
        "outputId": "d2843249-4cc9-4e9c-8aa3-6baf73b50679",
        "pycharm": {
          "is_executing": true,
          "name": "#%% md\n"
        }
      },
      "source": [
        "* OH NO! WHAT HAPPEND??"
      ],
      "execution_count": 10,
      "outputs": [
        {
          "output_type": "stream",
          "name": "stdout",
          "text": [
            "Object `HAPPEND` not found.\n"
          ]
        }
      ]
    },
    {
      "cell_type": "code",
      "execution_count": 16,
      "metadata": {
        "colab": {
          "base_uri": "https://localhost:8080/"
        },
        "id": "ngHFwv4710nM",
        "outputId": "fd613134-07f7-4e13-c3b1-5e03042746ad"
      },
      "outputs": [
        {
          "output_type": "stream",
          "name": "stdout",
          "text": [
            "classification error for multinomial: 3.928% \n",
            "\n",
            "shape of the posterior values: (611, 2) \n",
            "\n",
            "posterior values for multinomial:\n",
            "[[3.19763783e-012 1.07634639e-015]\n",
            " [3.01760058e-049 3.24068130e-051]\n",
            " [1.55753718e-005 2.16934846e-008]\n",
            " [0.00000000e+000 0.00000000e+000]\n",
            " [0.00000000e+000 0.00000000e+000]\n",
            " [5.16139455e-044 1.41856201e-046]\n",
            " [2.48841621e-045 5.65122963e-049]\n",
            " [1.45048151e-042 0.00000000e+000]\n",
            " [1.43728580e-063 0.00000000e+000]\n",
            " [1.55753718e-005 2.16934846e-008]\n",
            " [8.12172773e-025 2.23478838e-027]\n",
            " [0.00000000e+000 0.00000000e+000]\n",
            " [2.06429429e-015 9.55697646e-018]\n",
            " [9.61672045e-122 8.02458590e-132]\n",
            " [4.93517496e-166 2.40892321e-155]\n",
            " [2.00846919e-069 0.00000000e+000]\n",
            " [1.76666618e-120 1.43363715e-124]\n",
            " [4.70361920e-180 1.52065777e-200]\n",
            " [7.29912295e-113 0.00000000e+000]\n",
            " [5.20235616e-052 0.00000000e+000]]\n"
          ]
        }
      ],
      "source": [
        "# let's see it in action for the multinomial case\n",
        "# create classifier\n",
        "clf = MlabNaiveBayes(dist_type=\"multinomial\", n_classes=2)\n",
        "# train on train set\n",
        "clf.fit(X_train_augmented, y_train)\n",
        "\n",
        "# predict on test set\n",
        "y_pred = clf.predict(X_test_augmented)\n",
        "\n",
        "# calculate the error\n",
        "error = calc_err(y_pred, y_test)\n",
        "print(f\"classification error for multinomial: {error * 100:.3f}% \\n\")\n",
        "\n",
        "# let's look at the posterior values\n",
        "print(f\"shape of the posterior values: {clf.last_scores.shape:} \\n\")\n",
        "print(\"posterior values for multinomial:\")\n",
        "print(clf.last_scores[:20])"
      ]
    },
    {
      "cell_type": "code",
      "execution_count": 15,
      "metadata": {
        "colab": {
          "base_uri": "https://localhost:8080/"
        },
        "id": "XE7wSYIaHtJm",
        "outputId": "7280754b-f10d-41f7-ae1e-1e182ea37934"
      },
      "outputs": [
        {
          "output_type": "stream",
          "name": "stdout",
          "text": [
            "classification error for multinomial_smooth: 3.928% \n",
            "\n",
            "posterior values for multinomial_smooth:\n",
            "[[3.19308732e-012 1.14620294e-015]\n",
            " [3.05430668e-049 4.52306434e-051]\n",
            " [1.55677723e-005 2.30135868e-008]\n",
            " [0.00000000e+000 0.00000000e+000]\n",
            " [0.00000000e+000 0.00000000e+000]\n",
            " [5.17112144e-044 1.49485947e-046]\n",
            " [2.48475829e-045 5.92913892e-049]\n",
            " [1.45096798e-042 2.94904163e-052]\n",
            " [1.43489471e-063 6.91302657e-069]\n",
            " [1.55677723e-005 2.30135868e-008]\n",
            " [8.10127450e-025 2.28967918e-027]\n",
            " [0.00000000e+000 0.00000000e+000]\n",
            " [2.06656456e-015 1.01199577e-017]\n",
            " [9.68002684e-122 9.80574646e-132]\n",
            " [5.02140978e-166 2.24191512e-155]\n",
            " [2.01721009e-069 9.80996535e-076]\n",
            " [1.80239847e-120 1.94516666e-124]\n",
            " [4.66637251e-180 2.88850182e-200]\n",
            " [7.45782412e-113 4.97238986e-127]\n",
            " [5.20665494e-052 3.76317904e-057]]\n"
          ]
        }
      ],
      "source": [
        "\n",
        "# let's see it in action for the smooth multinomial case\n",
        "# create classifier\n",
        "clf = MlabNaiveBayes(dist_type=\"multinomial_smooth\", n_classes=2)\n",
        "# train on train set\n",
        "clf.fit(X_train_augmented, y_train)\n",
        "# predict on test set\n",
        "y_pred = clf.predict(X_test_augmented)\n",
        "\n",
        "# calculate the error\n",
        "error = calc_err(y_pred, y_test)\n",
        "print(f\"classification error for multinomial_smooth: {error * 100:.3f}% \\n\")\n",
        "\n",
        "print(\"posterior values for multinomial_smooth:\")\n",
        "print(clf.last_scores[:20])"
      ]
    },
    {
      "cell_type": "code",
      "execution_count": 14,
      "metadata": {
        "pycharm": {
          "name": "#%%\n"
        },
        "colab": {
          "base_uri": "https://localhost:8080/"
        },
        "id": "Mv_ZnsXA10nN",
        "outputId": "adf6a3db-da49-4562-d36f-c97d5e313170"
      },
      "outputs": [
        {
          "output_type": "stream",
          "name": "stdout",
          "text": [
            "classification error for multinomial_smooth & log_prob: 2.128% \n",
            "\n",
            "log-posterior values for multinomial_smooth:\n",
            "[[  -26.47003285   -34.40232171]\n",
            " [ -111.71011693  -115.92265003]\n",
            " [  -11.07030766   -17.58718106]\n",
            " [ -971.51258925 -1028.60290076]\n",
            " [ -814.98702186  -804.07953753]\n",
            " [  -99.67065451  -105.51688208]\n",
            " [ -102.7061538   -111.04679056]\n",
            " [  -96.336343    -118.65294459]\n",
            " [ -144.70176938  -156.94496388]\n",
            " [  -11.07030766   -17.58718106]\n",
            " [  -55.47260593   -61.3413858 ]\n",
            " [-1256.95485359 -1338.53717112]\n",
            " [  -33.8128888    -39.13202219]\n",
            " [ -278.64531667  -301.65826369]\n",
            " [ -380.61541471  -356.09335895]\n",
            " [ -158.176656    -172.71306833]\n",
            " [ -275.7210929   -284.85520387]\n",
            " [ -412.92493473  -459.45628063]\n",
            " [ -258.18285181  -290.82440623]\n",
            " [ -118.08448723  -129.92208621]]\n"
          ]
        }
      ],
      "source": [
        "# let's see it in action for the smooth multinomial case  with logarithmic probability\n",
        "# create classifier\n",
        "clf = MlabNaiveBayes(dist_type=\"multinomial_smooth\", n_classes=2, use_log_prob=True)\n",
        "# train on train set\n",
        "clf.fit(X_train_augmented, y_train)\n",
        "# predict on test set\n",
        "y_pred = clf.predict(X_test_augmented)\n",
        "\n",
        "# calculate the error\n",
        "error = calc_err(y_pred, y_test)\n",
        "print(f\"classification error for multinomial_smooth & log_prob: {error * 100:.3f}% \\n\")\n",
        "\n",
        "print(\"log-posterior values for multinomial_smooth:\")\n",
        "print(clf.last_scores[:20])"
      ]
    },
    {
      "cell_type": "code",
      "execution_count": 38,
      "metadata": {
        "pycharm": {
          "name": "#%%\n"
        },
        "colab": {
          "base_uri": "https://localhost:8080/"
        },
        "id": "SoOfDS_J10nN",
        "outputId": "c7fe1e01-f9a0-4d93-9bc3-4b5b8d58fb6f"
      },
      "outputs": [
        {
          "output_type": "stream",
          "name": "stdout",
          "text": [
            "Trial error: 1.637% \n",
            "\n",
            " train ratio: 0.1, (1/5)\n",
            " train ratio: 0.2, (2/5)\n",
            " train ratio: 0.4, (3/5)\n",
            " train ratio: 0.8, (4/5)\n",
            " train ratio: 1, (5/5)\n",
            "done\n"
          ]
        }
      ],
      "source": [
        "\"\"\"\n",
        "Analyze the effect of train sets of different sizes\n",
        "\"\"\"\n",
        "\n",
        "# Complete the code of the function run_train_and_test in part_1_functions.py\n",
        "from part_1_functions import run_train_and_test\n",
        "\n",
        "# Trial run for the function:\n",
        "X = email_data['Content'].values\n",
        "y = email_data['Label'].values == 'S'  # 1 Spam, 0 for Ham\n",
        "err = run_train_and_test(X, y, train_ratio=1, test_size=0.2)\n",
        "print(f'Trial error: {100*err:.3f}% \\n')\n",
        "\n",
        "# Run grid of train_ratios and n_repeats\n",
        "n_repeats = 50\n",
        "test_size = 0.2\n",
        "train_ratios = [0.1, 0.2, 0.4, 0.8, 1]\n",
        "test_errors = np.zeros(len(train_ratios))\n",
        "test_errors_std = np.zeros(len(train_ratios))\n",
        "\n",
        "for i_grid, train_ratio in enumerate(train_ratios):\n",
        "    print(f\" train ratio: {train_ratio}, ({i_grid+1}/{len(train_ratios)})\")\n",
        "    errors = run_parallel(run_train_and_test,\n",
        "                                  [X, y, train_ratio, test_size],\n",
        "                                  n_repeats)\n",
        "    test_errors[i_grid] = np.mean(errors)\n",
        "    test_errors_std[i_grid] = np.std(errors)\n",
        "# end for\n",
        "print('done')\n"
      ]
    },
    {
      "cell_type": "code",
      "execution_count": 39,
      "metadata": {
        "colab": {
          "base_uri": "https://localhost:8080/",
          "height": 642
        },
        "id": "tpKZha8G10nN",
        "outputId": "bd67342c-9ded-4cd7-9dd3-1f6b83e50f84"
      },
      "outputs": [
        {
          "output_type": "display_data",
          "data": {
            "text/plain": [
              "<Figure size 1000x800 with 1 Axes>"
            ],
            "image/png": "[encoded data removed]"
          },
          "metadata": {}
        }
      ],
      "source": [
        "\"\"\"\n",
        "Plot the results\n",
        "\"\"\"\n",
        "fig = plt.figure(figsize=(10, 8))\n",
        "ax = plt.axes()\n",
        "ax.errorbar(train_ratios, 100*test_errors, yerr=100*test_errors_std)\n",
        "ax.set_xlabel(\"train size\")\n",
        "ax.set_ylabel(\"error %\")\n",
        "ax.grid()\n",
        "ax.set_title(f\"Test Error vs. Train Size (N={n_repeats} Repeats)\")\n",
        "plt.show()"
      ]
    },
    {
      "cell_type": "code",
      "execution_count": 40,
      "metadata": {
        "pycharm": {
          "name": "#%%\n"
        },
        "colab": {
          "base_uri": "https://localhost:8080/"
        },
        "id": "Ho83WZvV10nN",
        "outputId": "ae105887-5add-4d82-f42c-8d6e7837ba86"
      },
      "outputs": [
        {
          "output_type": "stream",
          "name": "stdout",
          "text": [
            "Trial error: 2.253% \n",
            "\n",
            "train ratio: 0.1, (1/5)\n",
            "train ratio: 0.2, (2/5)\n",
            "train ratio: 0.4, (3/5)\n",
            "train ratio: 0.8, (4/5)\n",
            "train ratio: 1, (5/5)\n",
            "done\n"
          ]
        }
      ],
      "source": [
        "# let's do the same for the evaluation on the train set\n",
        "# repeat for train error\n",
        "\n",
        "# Complete the code of the function run_train_and_test_on_train in part_1_functions.py\n",
        "from part_1_functions import run_train_and_test_on_train\n",
        "\n",
        "\n",
        "# Trial run for the function:\n",
        "err = run_train_and_test_on_train(X, y, train_ratio=1, test_size=0.2)\n",
        "print(f'Trial error: {100*err:.3f}% \\n')\n",
        "\n",
        "# Run grid of train_ratios and n_repeats\n",
        "n_repeats = 20\n",
        "train_errors  = np.zeros(len(train_ratios))\n",
        "train_errors_std   = np.zeros(len(train_ratios))\n",
        "for i_grid, train_ratio in enumerate(train_ratios):\n",
        "    print(f\"train ratio: {train_ratio}, ({i_grid+1}/{len(train_ratios)})\")\n",
        "    errors = run_parallel(run_train_and_test_on_train,\n",
        "                              [X, y, train_ratio, test_size],\n",
        "                              n_repeats)\n",
        "    train_errors[i_grid] = np.mean(errors)\n",
        "    train_errors_std[i_grid] = np.std(errors)\n",
        "# end for\n",
        "print('done')\n"
      ]
    },
    {
      "cell_type": "code",
      "execution_count": 41,
      "metadata": {
        "colab": {
          "base_uri": "https://localhost:8080/",
          "height": 642
        },
        "id": "2gEPy8jOHtJp",
        "outputId": "5042d10c-ac4f-4968-f481-2dd7fe1fbdb7"
      },
      "outputs": [
        {
          "output_type": "display_data",
          "data": {
            "text/plain": [
              "<Figure size 1000x800 with 1 Axes>"
            ],
            "image/png": "[encoded data removed]"
          },
          "metadata": {}
        }
      ],
      "source": [
        "# plot the 2 graphs\n",
        "fig = plt.figure(figsize=(10, 8))\n",
        "ax = plt.axes()\n",
        "ax.errorbar(train_ratios, 100*test_errors, yerr=100*test_errors_std, label=\"test_error\")\n",
        "ax.errorbar(train_ratios, 100*train_errors, yerr=100*train_errors_std, label=\"train_error\")\n",
        "ax.set_xlabel(\"train size\")\n",
        "ax.set_ylabel(\"error %\")\n",
        "ax.legend()\n",
        "ax.grid()\n",
        "ax.set_title(f\"Test & Train Error vs. Train Size (N={n_repeats} Repeats)\")\n",
        "plt.show()"
      ]
    },
    {
      "cell_type": "markdown",
      "metadata": {
        "id": "vyG5AAH8HtJ6"
      },
      "source": [
        "## <img src=\"https://img.icons8.com/dusk/64/000000/prize.png\" style=\"height:50px;display:inline\"> Credits\n",
        "* Icons from <a href=\"https://icons8.com/\">Icon8.com</a> - https://icons8.com\n",
        "* Datasets from <a href=\"https://www.kaggle.com/\">Kaggle</a> - https://www.kaggle.com/\n",
        "* Notebook made by <a href=\"mailto:taldanielm@campus.technion.ac.il\">Tal Daniel</a> (August 2019)\n",
        "* Updates: Ron Amit (January 2021)"
      ]
    }
  ],
  "metadata": {
    "colab": {
      "provenance": []
    },
    "kernelspec": {
      "display_name": "Python 3",
      "language": "python",
      "name": "python3"
    },
    "language_info": {
      "codemirror_mode": {
        "name": "ipython",
        "version": 3
      },
      "file_extension": ".py",
      "mimetype": "text/x-python",
      "name": "python",
      "nbconvert_exporter": "python",
      "pygments_lexer": "ipython3",
      "version": "3.8.5"
    }
  },
  "nbformat": 4,
  "nbformat_minor": 0
}